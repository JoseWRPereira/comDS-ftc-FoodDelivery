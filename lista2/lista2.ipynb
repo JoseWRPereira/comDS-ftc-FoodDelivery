{
 "cells": [
  {
   "cell_type": "markdown",
   "id": "3a29b168",
   "metadata": {},
   "source": [
    "# Perguntas de negócio"
   ]
  },
  {
   "cell_type": "code",
   "execution_count": 1,
   "id": "c267dffa",
   "metadata": {},
   "outputs": [],
   "source": [
    "import pandas as pd"
   ]
  },
  {
   "cell_type": "code",
   "execution_count": 2,
   "id": "9906043f",
   "metadata": {},
   "outputs": [],
   "source": [
    "df = pd.read_csv(\"../dataset/train.csv\")"
   ]
  },
  {
   "cell_type": "code",
   "execution_count": 3,
   "id": "059f4f89",
   "metadata": {},
   "outputs": [
    {
     "data": {
      "text/plain": [
       "ID                              object\n",
       "Delivery_person_ID              object\n",
       "Delivery_person_Age             object\n",
       "Delivery_person_Ratings         object\n",
       "Restaurant_latitude            float64\n",
       "Restaurant_longitude           float64\n",
       "Delivery_location_latitude     float64\n",
       "Delivery_location_longitude    float64\n",
       "Order_Date                      object\n",
       "Time_Orderd                     object\n",
       "Time_Order_picked               object\n",
       "Weatherconditions               object\n",
       "Road_traffic_density            object\n",
       "Vehicle_condition                int64\n",
       "Type_of_order                   object\n",
       "Type_of_vehicle                 object\n",
       "multiple_deliveries             object\n",
       "Festival                        object\n",
       "City                            object\n",
       "Time_taken(min)                 object\n",
       "dtype: object"
      ]
     },
     "execution_count": 3,
     "metadata": {},
     "output_type": "execute_result"
    }
   ],
   "source": [
    "df.dtypes"
   ]
  },
  {
   "cell_type": "markdown",
   "id": "a39a5a52",
   "metadata": {},
   "source": [
    "## 0. Limpeza da base de dados"
   ]
  },
  {
   "cell_type": "markdown",
   "id": "88ac9f10",
   "metadata": {},
   "source": [
    "## 1. Qual o número total de entregadores cadastrados na base de dados?"
   ]
  },
  {
   "cell_type": "code",
   "execution_count": 4,
   "id": "5e8293e0",
   "metadata": {},
   "outputs": [
    {
     "name": "stdout",
     "output_type": "stream",
     "text": [
      "Entregadores cadastrados: 45593\n"
     ]
    }
   ],
   "source": [
    "aux = df[\"Delivery_person_ID\"].shape\n",
    "print(\"Entregadores cadastrados: {}\".format(aux[0]))"
   ]
  },
  {
   "cell_type": "markdown",
   "id": "de16b0ef",
   "metadata": {},
   "source": [
    "## 2. Qual o número total de entregadores únicos cadastrados na base de dados?"
   ]
  },
  {
   "cell_type": "code",
   "execution_count": 5,
   "id": "dd50c3e2",
   "metadata": {},
   "outputs": [
    {
     "name": "stdout",
     "output_type": "stream",
     "text": [
      "Entregadores cadastrados: 1320\n"
     ]
    }
   ],
   "source": [
    "aux = df[\"Delivery_person_ID\"].unique().shape\n",
    "print(\"Entregadores cadastrados: {}\".format(aux[0]))"
   ]
  },
  {
   "cell_type": "markdown",
   "id": "3e8a110e",
   "metadata": {},
   "source": [
    "## 3. Qual a idade do entregador mais velho? E do mais novo?"
   ]
  },
  {
   "cell_type": "code",
   "execution_count": 6,
   "id": "2b9fd0d2",
   "metadata": {},
   "outputs": [
    {
     "data": {
      "text/plain": [
       "array(['37', '34', '23', '38', '32', '22', '33', '35', '36', '21', '24',\n",
       "       '29', '25', '31', '27', '26', '20', 'NaN ', '28', '39', '30', '15',\n",
       "       '50'], dtype=object)"
      ]
     },
     "execution_count": 6,
     "metadata": {},
     "output_type": "execute_result"
    }
   ],
   "source": [
    "# Buscando inconsistências no campo de idade dos entregadores\n",
    "df['Delivery_person_Age'].unique()"
   ]
  },
  {
   "cell_type": "code",
   "execution_count": 7,
   "id": "5152ba87",
   "metadata": {},
   "outputs": [],
   "source": [
    "# Excluindo, temporariamente, usuários sem idade declarada\n",
    "filtro = df['Delivery_person_Age'] != 'NaN '\n",
    "dfaux = df.loc[filtro,:]"
   ]
  },
  {
   "cell_type": "code",
   "execution_count": 8,
   "id": "9d08c692",
   "metadata": {},
   "outputs": [
    {
     "name": "stdout",
     "output_type": "stream",
     "text": [
      "O entregador mais velho tem 50 anos, enquanto o mais novo tem 15 anos.\n"
     ]
    }
   ],
   "source": [
    "delivery_person_ages = dfaux['Delivery_person_Age'].unique()\n",
    "print(\"O entregador mais velho tem {} anos, enquanto o mais novo tem {} anos.\".format(delivery_person_ages.max(), delivery_person_ages.min()))"
   ]
  },
  {
   "cell_type": "markdown",
   "id": "cb09773b",
   "metadata": {},
   "source": [
    "## 4. Qual o ID do entregador com a maior idade? E o ID do entregaor com a menor idade?"
   ]
  },
  {
   "cell_type": "code",
   "execution_count": 9,
   "id": "1396b472",
   "metadata": {},
   "outputs": [
    {
     "data": {
      "text/html": [
       "<div>\n",
       "<style scoped>\n",
       "    .dataframe tbody tr th:only-of-type {\n",
       "        vertical-align: middle;\n",
       "    }\n",
       "\n",
       "    .dataframe tbody tr th {\n",
       "        vertical-align: top;\n",
       "    }\n",
       "\n",
       "    .dataframe thead th {\n",
       "        text-align: right;\n",
       "    }\n",
       "</style>\n",
       "<table border=\"1\" class=\"dataframe\">\n",
       "  <thead>\n",
       "    <tr style=\"text-align: right;\">\n",
       "      <th></th>\n",
       "      <th>ID</th>\n",
       "      <th>Delivery_person_ID</th>\n",
       "      <th>Delivery_person_Age</th>\n",
       "    </tr>\n",
       "  </thead>\n",
       "  <tbody>\n",
       "    <tr>\n",
       "      <th>3586</th>\n",
       "      <td>0x46d</td>\n",
       "      <td>BANGRES05DEL01</td>\n",
       "      <td>50</td>\n",
       "    </tr>\n",
       "    <tr>\n",
       "      <th>4714</th>\n",
       "      <td>0x493</td>\n",
       "      <td>HYDRES17DEL01</td>\n",
       "      <td>50</td>\n",
       "    </tr>\n",
       "    <tr>\n",
       "      <th>5169</th>\n",
       "      <td>0x4f2</td>\n",
       "      <td>JAPRES08DEL01</td>\n",
       "      <td>50</td>\n",
       "    </tr>\n",
       "    <tr>\n",
       "      <th>5362</th>\n",
       "      <td>0x430</td>\n",
       "      <td>BANGRES19DEL01</td>\n",
       "      <td>50</td>\n",
       "    </tr>\n",
       "    <tr>\n",
       "      <th>5651</th>\n",
       "      <td>0xbef1</td>\n",
       "      <td>AGRRES13DEL02</td>\n",
       "      <td>50</td>\n",
       "    </tr>\n",
       "    <tr>\n",
       "      <th>6394</th>\n",
       "      <td>0x427</td>\n",
       "      <td>JAPRES06DEL02</td>\n",
       "      <td>50</td>\n",
       "    </tr>\n",
       "    <tr>\n",
       "      <th>7031</th>\n",
       "      <td>0x3eb</td>\n",
       "      <td>MYSRES15DEL02</td>\n",
       "      <td>50</td>\n",
       "    </tr>\n",
       "    <tr>\n",
       "      <th>7681</th>\n",
       "      <td>0xd42</td>\n",
       "      <td>VADRES09DEL01</td>\n",
       "      <td>50</td>\n",
       "    </tr>\n",
       "    <tr>\n",
       "      <th>9499</th>\n",
       "      <td>0x3f0</td>\n",
       "      <td>BANGRES010DEL01</td>\n",
       "      <td>50</td>\n",
       "    </tr>\n",
       "    <tr>\n",
       "      <th>9535</th>\n",
       "      <td>0x3ef</td>\n",
       "      <td>RANCHIRES13DEL01</td>\n",
       "      <td>50</td>\n",
       "    </tr>\n",
       "    <tr>\n",
       "      <th>10100</th>\n",
       "      <td>0x5b0</td>\n",
       "      <td>MYSRES04DEL01</td>\n",
       "      <td>50</td>\n",
       "    </tr>\n",
       "    <tr>\n",
       "      <th>10737</th>\n",
       "      <td>0xbffc</td>\n",
       "      <td>DEHRES18DEL02</td>\n",
       "      <td>50</td>\n",
       "    </tr>\n",
       "    <tr>\n",
       "      <th>12297</th>\n",
       "      <td>0x940</td>\n",
       "      <td>SURRES02DEL02</td>\n",
       "      <td>50</td>\n",
       "    </tr>\n",
       "    <tr>\n",
       "      <th>13257</th>\n",
       "      <td>0x490</td>\n",
       "      <td>COIMBRES03DEL02</td>\n",
       "      <td>50</td>\n",
       "    </tr>\n",
       "    <tr>\n",
       "      <th>13652</th>\n",
       "      <td>0x434</td>\n",
       "      <td>RANCHIRES01DEL02</td>\n",
       "      <td>50</td>\n",
       "    </tr>\n",
       "    <tr>\n",
       "      <th>14106</th>\n",
       "      <td>0x3f6</td>\n",
       "      <td>MYSRES06DEL02</td>\n",
       "      <td>50</td>\n",
       "    </tr>\n",
       "    <tr>\n",
       "      <th>14907</th>\n",
       "      <td>0x421</td>\n",
       "      <td>CHENRES19DEL01</td>\n",
       "      <td>50</td>\n",
       "    </tr>\n",
       "    <tr>\n",
       "      <th>14944</th>\n",
       "      <td>0x43c</td>\n",
       "      <td>HYDRES14DEL01</td>\n",
       "      <td>50</td>\n",
       "    </tr>\n",
       "    <tr>\n",
       "      <th>16798</th>\n",
       "      <td>0x3fa</td>\n",
       "      <td>RANCHIRES06DEL02</td>\n",
       "      <td>50</td>\n",
       "    </tr>\n",
       "    <tr>\n",
       "      <th>17145</th>\n",
       "      <td>0x400</td>\n",
       "      <td>COIMBRES07DEL01</td>\n",
       "      <td>50</td>\n",
       "    </tr>\n",
       "    <tr>\n",
       "      <th>17708</th>\n",
       "      <td>0x412</td>\n",
       "      <td>CHENRES010DEL01</td>\n",
       "      <td>50</td>\n",
       "    </tr>\n",
       "    <tr>\n",
       "      <th>18977</th>\n",
       "      <td>0xc363</td>\n",
       "      <td>BHPRES08DEL03</td>\n",
       "      <td>50</td>\n",
       "    </tr>\n",
       "    <tr>\n",
       "      <th>19382</th>\n",
       "      <td>0x3fb</td>\n",
       "      <td>INDORES02DEL03</td>\n",
       "      <td>50</td>\n",
       "    </tr>\n",
       "    <tr>\n",
       "      <th>20269</th>\n",
       "      <td>0xd0bc</td>\n",
       "      <td>ALHRES01DEL02</td>\n",
       "      <td>50</td>\n",
       "    </tr>\n",
       "    <tr>\n",
       "      <th>21320</th>\n",
       "      <td>0x810</td>\n",
       "      <td>HYDRES06DEL01</td>\n",
       "      <td>50</td>\n",
       "    </tr>\n",
       "    <tr>\n",
       "      <th>22416</th>\n",
       "      <td>0xc7d6</td>\n",
       "      <td>ALHRES08DEL03</td>\n",
       "      <td>50</td>\n",
       "    </tr>\n",
       "    <tr>\n",
       "      <th>23375</th>\n",
       "      <td>0x1060</td>\n",
       "      <td>BANGRES05DEL03</td>\n",
       "      <td>50</td>\n",
       "    </tr>\n",
       "    <tr>\n",
       "      <th>24237</th>\n",
       "      <td>0x420</td>\n",
       "      <td>SURRES13DEL01</td>\n",
       "      <td>50</td>\n",
       "    </tr>\n",
       "    <tr>\n",
       "      <th>24918</th>\n",
       "      <td>0xbf34</td>\n",
       "      <td>KNPRES16DEL02</td>\n",
       "      <td>50</td>\n",
       "    </tr>\n",
       "    <tr>\n",
       "      <th>25285</th>\n",
       "      <td>0x40c</td>\n",
       "      <td>COIMBRES08DEL03</td>\n",
       "      <td>50</td>\n",
       "    </tr>\n",
       "    <tr>\n",
       "      <th>26052</th>\n",
       "      <td>0x694</td>\n",
       "      <td>RANCHIRES09DEL02</td>\n",
       "      <td>50</td>\n",
       "    </tr>\n",
       "    <tr>\n",
       "      <th>27221</th>\n",
       "      <td>0x3f4</td>\n",
       "      <td>COIMBRES20DEL02</td>\n",
       "      <td>50</td>\n",
       "    </tr>\n",
       "    <tr>\n",
       "      <th>27399</th>\n",
       "      <td>0x3ea</td>\n",
       "      <td>MUMRES20DEL03</td>\n",
       "      <td>50</td>\n",
       "    </tr>\n",
       "    <tr>\n",
       "      <th>28315</th>\n",
       "      <td>0x3fd</td>\n",
       "      <td>BANGRES13DEL01</td>\n",
       "      <td>50</td>\n",
       "    </tr>\n",
       "    <tr>\n",
       "      <th>28974</th>\n",
       "      <td>0x404</td>\n",
       "      <td>CHENRES04DEL01</td>\n",
       "      <td>50</td>\n",
       "    </tr>\n",
       "    <tr>\n",
       "      <th>29535</th>\n",
       "      <td>0x480</td>\n",
       "      <td>BANGRES15DEL01</td>\n",
       "      <td>50</td>\n",
       "    </tr>\n",
       "    <tr>\n",
       "      <th>30579</th>\n",
       "      <td>0xbf12</td>\n",
       "      <td>BHPRES20DEL03</td>\n",
       "      <td>50</td>\n",
       "    </tr>\n",
       "    <tr>\n",
       "      <th>30943</th>\n",
       "      <td>0x4cc</td>\n",
       "      <td>MUMRES20DEL01</td>\n",
       "      <td>50</td>\n",
       "    </tr>\n",
       "    <tr>\n",
       "      <th>31233</th>\n",
       "      <td>0x706</td>\n",
       "      <td>VADRES09DEL02</td>\n",
       "      <td>50</td>\n",
       "    </tr>\n",
       "    <tr>\n",
       "      <th>32326</th>\n",
       "      <td>0xbf33</td>\n",
       "      <td>KNPRES03DEL03</td>\n",
       "      <td>50</td>\n",
       "    </tr>\n",
       "    <tr>\n",
       "      <th>33533</th>\n",
       "      <td>0xbf01</td>\n",
       "      <td>KOLRES06DEL02</td>\n",
       "      <td>50</td>\n",
       "    </tr>\n",
       "    <tr>\n",
       "      <th>34688</th>\n",
       "      <td>0xbf76</td>\n",
       "      <td>AGRRES20DEL03</td>\n",
       "      <td>50</td>\n",
       "    </tr>\n",
       "    <tr>\n",
       "      <th>38007</th>\n",
       "      <td>0xbef2</td>\n",
       "      <td>DEHRES13DEL01</td>\n",
       "      <td>50</td>\n",
       "    </tr>\n",
       "    <tr>\n",
       "      <th>38020</th>\n",
       "      <td>0x466</td>\n",
       "      <td>CHENRES14DEL02</td>\n",
       "      <td>50</td>\n",
       "    </tr>\n",
       "    <tr>\n",
       "      <th>38561</th>\n",
       "      <td>0x3f1</td>\n",
       "      <td>VADRES09DEL03</td>\n",
       "      <td>50</td>\n",
       "    </tr>\n",
       "    <tr>\n",
       "      <th>38649</th>\n",
       "      <td>0x5e0</td>\n",
       "      <td>MUMRES07DEL03</td>\n",
       "      <td>50</td>\n",
       "    </tr>\n",
       "    <tr>\n",
       "      <th>39699</th>\n",
       "      <td>0xa24</td>\n",
       "      <td>RANCHIRES14DEL03</td>\n",
       "      <td>50</td>\n",
       "    </tr>\n",
       "    <tr>\n",
       "      <th>40223</th>\n",
       "      <td>0x3e9</td>\n",
       "      <td>MYSRES04DEL03</td>\n",
       "      <td>50</td>\n",
       "    </tr>\n",
       "    <tr>\n",
       "      <th>41105</th>\n",
       "      <td>0x4e4</td>\n",
       "      <td>VADRES17DEL01</td>\n",
       "      <td>50</td>\n",
       "    </tr>\n",
       "    <tr>\n",
       "      <th>41969</th>\n",
       "      <td>0xbef4</td>\n",
       "      <td>KNPRES19DEL03</td>\n",
       "      <td>50</td>\n",
       "    </tr>\n",
       "    <tr>\n",
       "      <th>42072</th>\n",
       "      <td>0x5fc</td>\n",
       "      <td>INDORES11DEL03</td>\n",
       "      <td>50</td>\n",
       "    </tr>\n",
       "    <tr>\n",
       "      <th>42835</th>\n",
       "      <td>0x53e</td>\n",
       "      <td>BANGRES12DEL01</td>\n",
       "      <td>50</td>\n",
       "    </tr>\n",
       "    <tr>\n",
       "      <th>45332</th>\n",
       "      <td>0x2950</td>\n",
       "      <td>VADRES04DEL02</td>\n",
       "      <td>50</td>\n",
       "    </tr>\n",
       "  </tbody>\n",
       "</table>\n",
       "</div>"
      ],
      "text/plain": [
       "            ID Delivery_person_ID Delivery_person_Age\n",
       "3586    0x46d     BANGRES05DEL01                   50\n",
       "4714    0x493      HYDRES17DEL01                   50\n",
       "5169    0x4f2      JAPRES08DEL01                   50\n",
       "5362    0x430     BANGRES19DEL01                   50\n",
       "5651   0xbef1      AGRRES13DEL02                   50\n",
       "6394    0x427      JAPRES06DEL02                   50\n",
       "7031    0x3eb      MYSRES15DEL02                   50\n",
       "7681    0xd42      VADRES09DEL01                   50\n",
       "9499    0x3f0    BANGRES010DEL01                   50\n",
       "9535    0x3ef   RANCHIRES13DEL01                   50\n",
       "10100   0x5b0      MYSRES04DEL01                   50\n",
       "10737  0xbffc      DEHRES18DEL02                   50\n",
       "12297   0x940      SURRES02DEL02                   50\n",
       "13257   0x490    COIMBRES03DEL02                   50\n",
       "13652   0x434   RANCHIRES01DEL02                   50\n",
       "14106   0x3f6      MYSRES06DEL02                   50\n",
       "14907   0x421     CHENRES19DEL01                   50\n",
       "14944   0x43c      HYDRES14DEL01                   50\n",
       "16798   0x3fa   RANCHIRES06DEL02                   50\n",
       "17145   0x400    COIMBRES07DEL01                   50\n",
       "17708   0x412    CHENRES010DEL01                   50\n",
       "18977  0xc363      BHPRES08DEL03                   50\n",
       "19382   0x3fb     INDORES02DEL03                   50\n",
       "20269  0xd0bc      ALHRES01DEL02                   50\n",
       "21320   0x810      HYDRES06DEL01                   50\n",
       "22416  0xc7d6      ALHRES08DEL03                   50\n",
       "23375  0x1060     BANGRES05DEL03                   50\n",
       "24237   0x420      SURRES13DEL01                   50\n",
       "24918  0xbf34      KNPRES16DEL02                   50\n",
       "25285   0x40c    COIMBRES08DEL03                   50\n",
       "26052   0x694   RANCHIRES09DEL02                   50\n",
       "27221   0x3f4    COIMBRES20DEL02                   50\n",
       "27399   0x3ea      MUMRES20DEL03                   50\n",
       "28315   0x3fd     BANGRES13DEL01                   50\n",
       "28974   0x404     CHENRES04DEL01                   50\n",
       "29535   0x480     BANGRES15DEL01                   50\n",
       "30579  0xbf12      BHPRES20DEL03                   50\n",
       "30943   0x4cc      MUMRES20DEL01                   50\n",
       "31233   0x706      VADRES09DEL02                   50\n",
       "32326  0xbf33      KNPRES03DEL03                   50\n",
       "33533  0xbf01      KOLRES06DEL02                   50\n",
       "34688  0xbf76      AGRRES20DEL03                   50\n",
       "38007  0xbef2      DEHRES13DEL01                   50\n",
       "38020   0x466     CHENRES14DEL02                   50\n",
       "38561   0x3f1      VADRES09DEL03                   50\n",
       "38649   0x5e0      MUMRES07DEL03                   50\n",
       "39699   0xa24   RANCHIRES14DEL03                   50\n",
       "40223   0x3e9      MYSRES04DEL03                   50\n",
       "41105   0x4e4      VADRES17DEL01                   50\n",
       "41969  0xbef4      KNPRES19DEL03                   50\n",
       "42072   0x5fc     INDORES11DEL03                   50\n",
       "42835   0x53e     BANGRES12DEL01                   50\n",
       "45332  0x2950      VADRES04DEL02                   50"
      ]
     },
     "execution_count": 9,
     "metadata": {},
     "output_type": "execute_result"
    }
   ],
   "source": [
    "aux = df[['ID','Delivery_person_ID','Delivery_person_Age']].loc[df['Delivery_person_Age']==delivery_person_ages.max()]\n",
    "qtd_mais_velhos = aux.shape[0]\n",
    "aux"
   ]
  },
  {
   "cell_type": "code",
   "execution_count": 11,
   "id": "bed66f0d",
   "metadata": {},
   "outputs": [
    {
     "data": {
      "text/html": [
       "<div>\n",
       "<style scoped>\n",
       "    .dataframe tbody tr th:only-of-type {\n",
       "        vertical-align: middle;\n",
       "    }\n",
       "\n",
       "    .dataframe tbody tr th {\n",
       "        vertical-align: top;\n",
       "    }\n",
       "\n",
       "    .dataframe thead th {\n",
       "        text-align: right;\n",
       "    }\n",
       "</style>\n",
       "<table border=\"1\" class=\"dataframe\">\n",
       "  <thead>\n",
       "    <tr style=\"text-align: right;\">\n",
       "      <th></th>\n",
       "      <th>ID</th>\n",
       "      <th>Delivery_person_ID</th>\n",
       "      <th>Delivery_person_Age</th>\n",
       "    </tr>\n",
       "  </thead>\n",
       "  <tbody>\n",
       "    <tr>\n",
       "      <th>2387</th>\n",
       "      <td>0x564</td>\n",
       "      <td>JAPRES15DEL03</td>\n",
       "      <td>15</td>\n",
       "    </tr>\n",
       "    <tr>\n",
       "      <th>2905</th>\n",
       "      <td>0xcd0</td>\n",
       "      <td>INDORES010DEL03</td>\n",
       "      <td>15</td>\n",
       "    </tr>\n",
       "    <tr>\n",
       "      <th>2951</th>\n",
       "      <td>0x91a</td>\n",
       "      <td>SURRES17DEL03</td>\n",
       "      <td>15</td>\n",
       "    </tr>\n",
       "    <tr>\n",
       "      <th>5902</th>\n",
       "      <td>0x474</td>\n",
       "      <td>CHENRES15DEL03</td>\n",
       "      <td>15</td>\n",
       "    </tr>\n",
       "    <tr>\n",
       "      <th>9156</th>\n",
       "      <td>0x73f</td>\n",
       "      <td>BANGRES05DEL01</td>\n",
       "      <td>15</td>\n",
       "    </tr>\n",
       "    <tr>\n",
       "      <th>10900</th>\n",
       "      <td>0x1b49</td>\n",
       "      <td>MUMRES14DEL02</td>\n",
       "      <td>15</td>\n",
       "    </tr>\n",
       "    <tr>\n",
       "      <th>11125</th>\n",
       "      <td>0x40b</td>\n",
       "      <td>SURRES12DEL01</td>\n",
       "      <td>15</td>\n",
       "    </tr>\n",
       "    <tr>\n",
       "      <th>12093</th>\n",
       "      <td>0x523</td>\n",
       "      <td>INDORES03DEL02</td>\n",
       "      <td>15</td>\n",
       "    </tr>\n",
       "    <tr>\n",
       "      <th>15124</th>\n",
       "      <td>0x18b0</td>\n",
       "      <td>RANCHIRES02DEL01</td>\n",
       "      <td>15</td>\n",
       "    </tr>\n",
       "    <tr>\n",
       "      <th>15927</th>\n",
       "      <td>0x550</td>\n",
       "      <td>CHENRES08DEL02</td>\n",
       "      <td>15</td>\n",
       "    </tr>\n",
       "    <tr>\n",
       "      <th>16084</th>\n",
       "      <td>0x58c</td>\n",
       "      <td>MUMRES02DEL01</td>\n",
       "      <td>15</td>\n",
       "    </tr>\n",
       "    <tr>\n",
       "      <th>16462</th>\n",
       "      <td>0xe4c</td>\n",
       "      <td>MYSRES05DEL03</td>\n",
       "      <td>15</td>\n",
       "    </tr>\n",
       "    <tr>\n",
       "      <th>21222</th>\n",
       "      <td>0x3fc</td>\n",
       "      <td>BANGRES16DEL02</td>\n",
       "      <td>15</td>\n",
       "    </tr>\n",
       "    <tr>\n",
       "      <th>22291</th>\n",
       "      <td>0x3ed</td>\n",
       "      <td>RANCHIRES09DEL01</td>\n",
       "      <td>15</td>\n",
       "    </tr>\n",
       "    <tr>\n",
       "      <th>23035</th>\n",
       "      <td>0x415</td>\n",
       "      <td>VADRES17DEL01</td>\n",
       "      <td>15</td>\n",
       "    </tr>\n",
       "    <tr>\n",
       "      <th>23488</th>\n",
       "      <td>0x616c</td>\n",
       "      <td>SURRES07DEL02</td>\n",
       "      <td>15</td>\n",
       "    </tr>\n",
       "    <tr>\n",
       "      <th>23644</th>\n",
       "      <td>0x1ea0</td>\n",
       "      <td>BANGRES17DEL02</td>\n",
       "      <td>15</td>\n",
       "    </tr>\n",
       "    <tr>\n",
       "      <th>23664</th>\n",
       "      <td>0x3f7</td>\n",
       "      <td>CHENRES04DEL01</td>\n",
       "      <td>15</td>\n",
       "    </tr>\n",
       "    <tr>\n",
       "      <th>25873</th>\n",
       "      <td>0xbb3</td>\n",
       "      <td>CHENRES15DEL03</td>\n",
       "      <td>15</td>\n",
       "    </tr>\n",
       "    <tr>\n",
       "      <th>26633</th>\n",
       "      <td>0x730</td>\n",
       "      <td>INDORES15DEL02</td>\n",
       "      <td>15</td>\n",
       "    </tr>\n",
       "    <tr>\n",
       "      <th>26917</th>\n",
       "      <td>0x6e0</td>\n",
       "      <td>CHENRES06DEL03</td>\n",
       "      <td>15</td>\n",
       "    </tr>\n",
       "    <tr>\n",
       "      <th>27118</th>\n",
       "      <td>0x3f2</td>\n",
       "      <td>BANGRES02DEL02</td>\n",
       "      <td>15</td>\n",
       "    </tr>\n",
       "    <tr>\n",
       "      <th>27942</th>\n",
       "      <td>0x681</td>\n",
       "      <td>CHENRES07DEL03</td>\n",
       "      <td>15</td>\n",
       "    </tr>\n",
       "    <tr>\n",
       "      <th>28003</th>\n",
       "      <td>0x406</td>\n",
       "      <td>PUNERES14DEL01</td>\n",
       "      <td>15</td>\n",
       "    </tr>\n",
       "    <tr>\n",
       "      <th>29664</th>\n",
       "      <td>0x137e</td>\n",
       "      <td>MYSRES19DEL02</td>\n",
       "      <td>15</td>\n",
       "    </tr>\n",
       "    <tr>\n",
       "      <th>31216</th>\n",
       "      <td>0x32aa</td>\n",
       "      <td>JAPRES11DEL01</td>\n",
       "      <td>15</td>\n",
       "    </tr>\n",
       "    <tr>\n",
       "      <th>31959</th>\n",
       "      <td>0x4240</td>\n",
       "      <td>PUNERES05DEL02</td>\n",
       "      <td>15</td>\n",
       "    </tr>\n",
       "    <tr>\n",
       "      <th>33198</th>\n",
       "      <td>0x622</td>\n",
       "      <td>CHENRES03DEL02</td>\n",
       "      <td>15</td>\n",
       "    </tr>\n",
       "    <tr>\n",
       "      <th>34953</th>\n",
       "      <td>0x85c</td>\n",
       "      <td>COIMBRES17DEL02</td>\n",
       "      <td>15</td>\n",
       "    </tr>\n",
       "    <tr>\n",
       "      <th>36021</th>\n",
       "      <td>0xdc0</td>\n",
       "      <td>COIMBRES03DEL03</td>\n",
       "      <td>15</td>\n",
       "    </tr>\n",
       "    <tr>\n",
       "      <th>37100</th>\n",
       "      <td>0x451</td>\n",
       "      <td>HYDRES14DEL03</td>\n",
       "      <td>15</td>\n",
       "    </tr>\n",
       "    <tr>\n",
       "      <th>37676</th>\n",
       "      <td>0x424</td>\n",
       "      <td>PUNERES20DEL02</td>\n",
       "      <td>15</td>\n",
       "    </tr>\n",
       "    <tr>\n",
       "      <th>39073</th>\n",
       "      <td>0x4a6</td>\n",
       "      <td>COIMBRES07DEL02</td>\n",
       "      <td>15</td>\n",
       "    </tr>\n",
       "    <tr>\n",
       "      <th>39082</th>\n",
       "      <td>0x1144</td>\n",
       "      <td>MYSRES05DEL01</td>\n",
       "      <td>15</td>\n",
       "    </tr>\n",
       "    <tr>\n",
       "      <th>40285</th>\n",
       "      <td>0x442</td>\n",
       "      <td>CHENRES16DEL02</td>\n",
       "      <td>15</td>\n",
       "    </tr>\n",
       "    <tr>\n",
       "      <th>41241</th>\n",
       "      <td>0x49c</td>\n",
       "      <td>COIMBRES14DEL02</td>\n",
       "      <td>15</td>\n",
       "    </tr>\n",
       "    <tr>\n",
       "      <th>44403</th>\n",
       "      <td>0x2314</td>\n",
       "      <td>VADRES04DEL01</td>\n",
       "      <td>15</td>\n",
       "    </tr>\n",
       "    <tr>\n",
       "      <th>44881</th>\n",
       "      <td>0x8d4</td>\n",
       "      <td>CHENRES02DEL02</td>\n",
       "      <td>15</td>\n",
       "    </tr>\n",
       "  </tbody>\n",
       "</table>\n",
       "</div>"
      ],
      "text/plain": [
       "            ID Delivery_person_ID Delivery_person_Age\n",
       "2387    0x564      JAPRES15DEL03                   15\n",
       "2905    0xcd0    INDORES010DEL03                   15\n",
       "2951    0x91a      SURRES17DEL03                   15\n",
       "5902    0x474     CHENRES15DEL03                   15\n",
       "9156    0x73f     BANGRES05DEL01                   15\n",
       "10900  0x1b49      MUMRES14DEL02                   15\n",
       "11125   0x40b      SURRES12DEL01                   15\n",
       "12093   0x523     INDORES03DEL02                   15\n",
       "15124  0x18b0   RANCHIRES02DEL01                   15\n",
       "15927   0x550     CHENRES08DEL02                   15\n",
       "16084   0x58c      MUMRES02DEL01                   15\n",
       "16462   0xe4c      MYSRES05DEL03                   15\n",
       "21222   0x3fc     BANGRES16DEL02                   15\n",
       "22291   0x3ed   RANCHIRES09DEL01                   15\n",
       "23035   0x415      VADRES17DEL01                   15\n",
       "23488  0x616c      SURRES07DEL02                   15\n",
       "23644  0x1ea0     BANGRES17DEL02                   15\n",
       "23664   0x3f7     CHENRES04DEL01                   15\n",
       "25873   0xbb3     CHENRES15DEL03                   15\n",
       "26633   0x730     INDORES15DEL02                   15\n",
       "26917   0x6e0     CHENRES06DEL03                   15\n",
       "27118   0x3f2     BANGRES02DEL02                   15\n",
       "27942   0x681     CHENRES07DEL03                   15\n",
       "28003   0x406     PUNERES14DEL01                   15\n",
       "29664  0x137e      MYSRES19DEL02                   15\n",
       "31216  0x32aa      JAPRES11DEL01                   15\n",
       "31959  0x4240     PUNERES05DEL02                   15\n",
       "33198   0x622     CHENRES03DEL02                   15\n",
       "34953   0x85c    COIMBRES17DEL02                   15\n",
       "36021   0xdc0    COIMBRES03DEL03                   15\n",
       "37100   0x451      HYDRES14DEL03                   15\n",
       "37676   0x424     PUNERES20DEL02                   15\n",
       "39073   0x4a6    COIMBRES07DEL02                   15\n",
       "39082  0x1144      MYSRES05DEL01                   15\n",
       "40285   0x442     CHENRES16DEL02                   15\n",
       "41241   0x49c    COIMBRES14DEL02                   15\n",
       "44403  0x2314      VADRES04DEL01                   15\n",
       "44881   0x8d4     CHENRES02DEL02                   15"
      ]
     },
     "execution_count": 11,
     "metadata": {},
     "output_type": "execute_result"
    }
   ],
   "source": [
    "aux = dfaux[['ID','Delivery_person_ID','Delivery_person_Age']].loc[dfaux['Delivery_person_Age']==delivery_person_ages.min()]\n",
    "qtd_mais_novos = aux.shape[0]\n",
    "aux"
   ]
  },
  {
   "cell_type": "code",
   "execution_count": 12,
   "id": "babbe064",
   "metadata": {},
   "outputs": [
    {
     "name": "stdout",
     "output_type": "stream",
     "text": [
      "Com os dados do dataframe não é possível definir o entregador mais velho dentre os 53 entregadores com 50 anos e nem o mais novo entre os 38 entregadores com 15 anos.\n"
     ]
    }
   ],
   "source": [
    "print(\"Com os dados do dataframe não é possível definir o \\\n",
    "entregador mais velho dentre os {} entregadores com {} anos \\\n",
    "e nem o mais novo entre os {} entregadores com {} anos.\".format(\n",
    "    qtd_mais_velhos, delivery_person_ages.max(), qtd_mais_novos, delivery_person_ages.min()))"
   ]
  },
  {
   "cell_type": "markdown",
   "id": "5f5cacb6",
   "metadata": {},
   "source": [
    "## 5. Quais os nomes das condições climáticas?"
   ]
  },
  {
   "cell_type": "code",
   "execution_count": 13,
   "id": "d672bfef",
   "metadata": {},
   "outputs": [],
   "source": [
    "filtro = df['Weatherconditions'] != 'conditions NaN'\n",
    "dfaux = df.loc[filtro,:]"
   ]
  },
  {
   "cell_type": "code",
   "execution_count": 14,
   "id": "f5326812",
   "metadata": {},
   "outputs": [
    {
     "name": "stdout",
     "output_type": "stream",
     "text": [
      "As condições climáticas são:\n",
      "conditions Sunny\n",
      "conditions Stormy\n",
      "conditions Sandstorms\n",
      "conditions Cloudy\n",
      "conditions Fog\n",
      "conditions Windy\n"
     ]
    }
   ],
   "source": [
    "climas = dfaux['Weatherconditions'].unique()\n",
    "\n",
    "print(\"As condições climáticas são:\")\n",
    "for c in climas:\n",
    "    print(c)"
   ]
  },
  {
   "cell_type": "markdown",
   "id": "71c43ba3",
   "metadata": {},
   "source": [
    "## 6. Quantas entregas foram realizadas sob condições climáticas de tempestade de areia? ( Sandstorms )"
   ]
  },
  {
   "cell_type": "code",
   "execution_count": 15,
   "id": "b0ff0706",
   "metadata": {},
   "outputs": [
    {
     "name": "stdout",
     "output_type": "stream",
     "text": [
      "Foram feitas 7495 entregas em condição climática de tempestade de areia.\n"
     ]
    }
   ],
   "source": [
    "sandstorms = df['Weatherconditions'].loc[df['Weatherconditions']== 'conditions Sandstorms']\n",
    "print(\"Foram feitas {} entregas em condição climática de tempestade de areia.\".format( sandstorms.shape[0] ) )"
   ]
  },
  {
   "cell_type": "markdown",
   "id": "e4f8d7f9",
   "metadata": {},
   "source": [
    "## 7. Quais eram as condicões climáticas da data mais recente de entrega? "
   ]
  },
  {
   "cell_type": "code",
   "execution_count": 16,
   "id": "fe63c924",
   "metadata": {},
   "outputs": [
    {
     "name": "stdout",
     "output_type": "stream",
     "text": [
      "As condições climáticas no dia 6/4/2022 foram:\n",
      "Cloudy\n",
      "Sunny\n",
      "Stormy\n",
      "Windy\n",
      "Fog\n",
      "Sandstorms\n",
      "NaN\n"
     ]
    }
   ],
   "source": [
    "from datetime import date\n",
    "df['Order_Date'] = pd.to_datetime(df['Order_Date'], format='%d-%m-%Y')\n",
    "data_recente = df['Order_Date'].max()\n",
    "clima_data_recente = df['Weatherconditions'].loc[df['Order_Date']==data_recente].unique()\n",
    "\n",
    "print(\"As condições climáticas no dia {}/{}/{} foram:\".format(data_recente.day, data_recente.month, data_recente.year))\n",
    "for c in clima_data_recente:\n",
    "    print(c[11:])"
   ]
  },
  {
   "cell_type": "markdown",
   "id": "34179188",
   "metadata": {},
   "source": [
    "## 8. Quantos tipos de densidade de trânsito existem na base de dados? Quais os nomes delas?"
   ]
  },
  {
   "cell_type": "code",
   "execution_count": 17,
   "id": "6da2d9d6",
   "metadata": {},
   "outputs": [],
   "source": [
    "filtro = df['Road_traffic_density']!='NaN '\n",
    "dfaux = df.loc[filtro,:]"
   ]
  },
  {
   "cell_type": "code",
   "execution_count": 109,
   "id": "17ae0ec6",
   "metadata": {},
   "outputs": [
    {
     "name": "stdout",
     "output_type": "stream",
     "text": [
      "Existem 4 tipos de densidade de trânsito na base de dados, e são eles:\n",
      "High \n",
      "Jam \n",
      "Low \n",
      "Medium \n"
     ]
    }
   ],
   "source": [
    "tipos_densidade_transito = dfaux['Road_traffic_density'].unique()\n",
    "tipos_densidade_transito.shape\n",
    "print(\"Existem {} tipos de densidade de trânsito na base de dados, e são eles:\".format(tipos_densidade_transito.shape[0]))\n",
    "for t in tipos_densidade_transito:\n",
    "    print(t)"
   ]
  },
  {
   "cell_type": "markdown",
   "id": "ab4ddab4",
   "metadata": {},
   "source": [
    "## 9. Quantas entregas foram feitas em cada condição climática?"
   ]
  },
  {
   "cell_type": "code",
   "execution_count": 18,
   "id": "67db3a35",
   "metadata": {},
   "outputs": [
    {
     "name": "stdout",
     "output_type": "stream",
     "text": [
      "Para a condição do clima Sunny foram feitas 7284 entregas.\n",
      "Para a condição do clima Stormy foram feitas 7586 entregas.\n",
      "Para a condição do clima Sandstorms foram feitas 7495 entregas.\n",
      "Para a condição do clima Cloudy foram feitas 7536 entregas.\n",
      "Para a condição do clima Fog foram feitas 7654 entregas.\n",
      "Para a condição do clima Windy foram feitas 7422 entregas.\n"
     ]
    }
   ],
   "source": [
    "for c in climas:\n",
    "    filtro = df['Weatherconditions']==c\n",
    "    entregas = df.loc[filtro,:]\n",
    "    entregas.shape[0]\n",
    "    clima = c[11:]\n",
    "    print('Para a condição do clima {} foram feitas {} entregas.'.format(clima,entregas.shape[0]))\n"
   ]
  },
  {
   "cell_type": "code",
   "execution_count": 19,
   "id": "fb1b7345",
   "metadata": {},
   "outputs": [
    {
     "data": {
      "text/html": [
       "<div>\n",
       "<style scoped>\n",
       "    .dataframe tbody tr th:only-of-type {\n",
       "        vertical-align: middle;\n",
       "    }\n",
       "\n",
       "    .dataframe tbody tr th {\n",
       "        vertical-align: top;\n",
       "    }\n",
       "\n",
       "    .dataframe thead th {\n",
       "        text-align: right;\n",
       "    }\n",
       "</style>\n",
       "<table border=\"1\" class=\"dataframe\">\n",
       "  <thead>\n",
       "    <tr style=\"text-align: right;\">\n",
       "      <th></th>\n",
       "      <th>Weatherconditions</th>\n",
       "      <th>ID</th>\n",
       "    </tr>\n",
       "  </thead>\n",
       "  <tbody>\n",
       "    <tr>\n",
       "      <th>0</th>\n",
       "      <td>conditions Cloudy</td>\n",
       "      <td>7536</td>\n",
       "    </tr>\n",
       "    <tr>\n",
       "      <th>1</th>\n",
       "      <td>conditions Fog</td>\n",
       "      <td>7654</td>\n",
       "    </tr>\n",
       "    <tr>\n",
       "      <th>2</th>\n",
       "      <td>conditions NaN</td>\n",
       "      <td>15</td>\n",
       "    </tr>\n",
       "    <tr>\n",
       "      <th>3</th>\n",
       "      <td>conditions Sandstorms</td>\n",
       "      <td>7495</td>\n",
       "    </tr>\n",
       "    <tr>\n",
       "      <th>4</th>\n",
       "      <td>conditions Stormy</td>\n",
       "      <td>7586</td>\n",
       "    </tr>\n",
       "    <tr>\n",
       "      <th>5</th>\n",
       "      <td>conditions Sunny</td>\n",
       "      <td>7284</td>\n",
       "    </tr>\n",
       "    <tr>\n",
       "      <th>6</th>\n",
       "      <td>conditions Windy</td>\n",
       "      <td>7422</td>\n",
       "    </tr>\n",
       "  </tbody>\n",
       "</table>\n",
       "</div>"
      ],
      "text/plain": [
       "       Weatherconditions    ID\n",
       "0      conditions Cloudy  7536\n",
       "1         conditions Fog  7654\n",
       "2         conditions NaN    15\n",
       "3  conditions Sandstorms  7495\n",
       "4      conditions Stormy  7586\n",
       "5       conditions Sunny  7284\n",
       "6       conditions Windy  7422"
      ]
     },
     "execution_count": 19,
     "metadata": {},
     "output_type": "execute_result"
    }
   ],
   "source": [
    "dfaux[['Weatherconditions','ID']].groupby('Weatherconditions').count().reset_index()"
   ]
  },
  {
   "cell_type": "markdown",
   "id": "e09667e3",
   "metadata": {},
   "source": [
    "## 10. Quantos entregadores únicos fizeram entregas em cada condição climática?"
   ]
  },
  {
   "cell_type": "code",
   "execution_count": 20,
   "id": "78210140",
   "metadata": {},
   "outputs": [
    {
     "data": {
      "text/html": [
       "<div>\n",
       "<style scoped>\n",
       "    .dataframe tbody tr th:only-of-type {\n",
       "        vertical-align: middle;\n",
       "    }\n",
       "\n",
       "    .dataframe tbody tr th {\n",
       "        vertical-align: top;\n",
       "    }\n",
       "\n",
       "    .dataframe thead th {\n",
       "        text-align: right;\n",
       "    }\n",
       "</style>\n",
       "<table border=\"1\" class=\"dataframe\">\n",
       "  <thead>\n",
       "    <tr style=\"text-align: right;\">\n",
       "      <th></th>\n",
       "      <th>Weatherconditions</th>\n",
       "      <th>IDs</th>\n",
       "    </tr>\n",
       "  </thead>\n",
       "  <tbody>\n",
       "    <tr>\n",
       "      <th>0</th>\n",
       "      <td>conditions Sunny</td>\n",
       "      <td>1242</td>\n",
       "    </tr>\n",
       "    <tr>\n",
       "      <th>1</th>\n",
       "      <td>conditions Stormy</td>\n",
       "      <td>1239</td>\n",
       "    </tr>\n",
       "    <tr>\n",
       "      <th>2</th>\n",
       "      <td>conditions Sandstorms</td>\n",
       "      <td>1248</td>\n",
       "    </tr>\n",
       "    <tr>\n",
       "      <th>3</th>\n",
       "      <td>conditions Cloudy</td>\n",
       "      <td>1253</td>\n",
       "    </tr>\n",
       "    <tr>\n",
       "      <th>4</th>\n",
       "      <td>conditions Fog</td>\n",
       "      <td>1261</td>\n",
       "    </tr>\n",
       "    <tr>\n",
       "      <th>5</th>\n",
       "      <td>conditions Windy</td>\n",
       "      <td>1237</td>\n",
       "    </tr>\n",
       "  </tbody>\n",
       "</table>\n",
       "</div>"
      ],
      "text/plain": [
       "       Weatherconditions   IDs\n",
       "0       conditions Sunny  1242\n",
       "1      conditions Stormy  1239\n",
       "2  conditions Sandstorms  1248\n",
       "3      conditions Cloudy  1253\n",
       "4         conditions Fog  1261\n",
       "5       conditions Windy  1237"
      ]
     },
     "execution_count": 20,
     "metadata": {},
     "output_type": "execute_result"
    }
   ],
   "source": [
    "filtro = ['Delivery_person_ID','Weatherconditions']\n",
    "df_clean = df.loc[df['Weatherconditions'] != 'conditions NaN']\n",
    "\n",
    "weatherconditions = df_clean['Weatherconditions'].unique()\n",
    "delivery_person_ids = df_clean['Delivery_person_ID'].unique()\n",
    "\n",
    "df_ans = pd.DataFrame([(' ', 0)], columns=['Weatherconditions','IDs'])\n",
    "i = 0\n",
    "\n",
    "for weather in weatherconditions:\n",
    "    df_aux = df_clean[filtro].loc[ df_clean['Weatherconditions']==weather ]\n",
    "    df_ans.loc[i] = [weather, df_aux['Delivery_person_ID'].unique().size ]\n",
    "    i = i+1\n",
    "df_ans\n"
   ]
  },
  {
   "cell_type": "markdown",
   "id": "be0f483c",
   "metadata": {},
   "source": [
    "## 11. Quantas entregas foram feitas em cada tipo de densidade de trânsito?"
   ]
  },
  {
   "cell_type": "code",
   "execution_count": 43,
   "id": "6195e76b",
   "metadata": {},
   "outputs": [
    {
     "name": "stdout",
     "output_type": "stream",
     "text": [
      "['High ' 'Jam ' 'Low ' 'Medium ' 'NaN ']\n"
     ]
    },
    {
     "data": {
      "text/html": [
       "<div>\n",
       "<style scoped>\n",
       "    .dataframe tbody tr th:only-of-type {\n",
       "        vertical-align: middle;\n",
       "    }\n",
       "\n",
       "    .dataframe tbody tr th {\n",
       "        vertical-align: top;\n",
       "    }\n",
       "\n",
       "    .dataframe thead th {\n",
       "        text-align: right;\n",
       "    }\n",
       "</style>\n",
       "<table border=\"1\" class=\"dataframe\">\n",
       "  <thead>\n",
       "    <tr style=\"text-align: right;\">\n",
       "      <th></th>\n",
       "      <th>ID</th>\n",
       "    </tr>\n",
       "    <tr>\n",
       "      <th>Road_traffic_density</th>\n",
       "      <th></th>\n",
       "    </tr>\n",
       "  </thead>\n",
       "  <tbody>\n",
       "    <tr>\n",
       "      <th>High</th>\n",
       "      <td>4425</td>\n",
       "    </tr>\n",
       "    <tr>\n",
       "      <th>Jam</th>\n",
       "      <td>14143</td>\n",
       "    </tr>\n",
       "    <tr>\n",
       "      <th>Low</th>\n",
       "      <td>15477</td>\n",
       "    </tr>\n",
       "    <tr>\n",
       "      <th>Medium</th>\n",
       "      <td>10947</td>\n",
       "    </tr>\n",
       "    <tr>\n",
       "      <th>NaN</th>\n",
       "      <td>601</td>\n",
       "    </tr>\n",
       "  </tbody>\n",
       "</table>\n",
       "</div>"
      ],
      "text/plain": [
       "                         ID\n",
       "Road_traffic_density       \n",
       "High                   4425\n",
       "Jam                   14143\n",
       "Low                   15477\n",
       "Medium                10947\n",
       "NaN                     601"
      ]
     },
     "execution_count": 43,
     "metadata": {},
     "output_type": "execute_result"
    }
   ],
   "source": [
    "traffic_density = df['Road_traffic_density'].unique()\n",
    "print(traffic_density)\n",
    "df[['ID','Road_traffic_density']].groupby('Road_traffic_density').count()\n"
   ]
  },
  {
   "cell_type": "markdown",
   "id": "37fd6d2a",
   "metadata": {},
   "source": [
    "## 12. Quantos entregadores únicos fizeram entregas em cada tipo de densidade de trânsito?"
   ]
  },
  {
   "cell_type": "code",
   "execution_count": 57,
   "id": "bf173653",
   "metadata": {},
   "outputs": [
    {
     "data": {
      "text/html": [
       "<div>\n",
       "<style scoped>\n",
       "    .dataframe tbody tr th:only-of-type {\n",
       "        vertical-align: middle;\n",
       "    }\n",
       "\n",
       "    .dataframe tbody tr th {\n",
       "        vertical-align: top;\n",
       "    }\n",
       "\n",
       "    .dataframe thead th {\n",
       "        text-align: right;\n",
       "    }\n",
       "</style>\n",
       "<table border=\"1\" class=\"dataframe\">\n",
       "  <thead>\n",
       "    <tr style=\"text-align: right;\">\n",
       "      <th></th>\n",
       "      <th>Road_traffic_density</th>\n",
       "      <th>IDs</th>\n",
       "    </tr>\n",
       "  </thead>\n",
       "  <tbody>\n",
       "    <tr>\n",
       "      <th>0</th>\n",
       "      <td>High</td>\n",
       "      <td>795</td>\n",
       "    </tr>\n",
       "    <tr>\n",
       "      <th>1</th>\n",
       "      <td>Jam</td>\n",
       "      <td>1308</td>\n",
       "    </tr>\n",
       "    <tr>\n",
       "      <th>2</th>\n",
       "      <td>Low</td>\n",
       "      <td>1311</td>\n",
       "    </tr>\n",
       "    <tr>\n",
       "      <th>3</th>\n",
       "      <td>Medium</td>\n",
       "      <td>1293</td>\n",
       "    </tr>\n",
       "    <tr>\n",
       "      <th>4</th>\n",
       "      <td>NaN</td>\n",
       "      <td>456</td>\n",
       "    </tr>\n",
       "  </tbody>\n",
       "</table>\n",
       "</div>"
      ],
      "text/plain": [
       "  Road_traffic_density   IDs\n",
       "0                High    795\n",
       "1                 Jam   1308\n",
       "2                 Low   1311\n",
       "3              Medium   1293\n",
       "4                 NaN    456"
      ]
     },
     "execution_count": 57,
     "metadata": {},
     "output_type": "execute_result"
    }
   ],
   "source": [
    "traffic_density\n",
    "# delivery_person = df[['Delivery_person_ID','Road_traffic_density']].unique()\n",
    "delivery_person = df['Delivery_person_ID'].unique()\n",
    "\n",
    "df_ans = pd.DataFrame([(' ',0)], columns=['Road_traffic_density', 'IDs'])\n",
    "i = 0\n",
    "\n",
    "for traffic in traffic_density:\n",
    "    dfaux = df[['Delivery_person_ID','Road_traffic_density']].loc[df['Road_traffic_density']==traffic]\n",
    "    df_ans.loc[i] = [traffic, dfaux['Delivery_person_ID'].unique().size]\n",
    "    i = i+1\n",
    "\n",
    "df_ans"
   ]
  },
  {
   "cell_type": "markdown",
   "id": "44f03f12",
   "metadata": {},
   "source": [
    "## 13. Quantas cidades únicas existem na base? Quais são os seus nomes?"
   ]
  },
  {
   "cell_type": "code",
   "execution_count": 66,
   "id": "95d0affa",
   "metadata": {},
   "outputs": [
    {
     "data": {
      "text/html": [
       "<div>\n",
       "<style scoped>\n",
       "    .dataframe tbody tr th:only-of-type {\n",
       "        vertical-align: middle;\n",
       "    }\n",
       "\n",
       "    .dataframe tbody tr th {\n",
       "        vertical-align: top;\n",
       "    }\n",
       "\n",
       "    .dataframe thead th {\n",
       "        text-align: right;\n",
       "    }\n",
       "</style>\n",
       "<table border=\"1\" class=\"dataframe\">\n",
       "  <thead>\n",
       "    <tr style=\"text-align: right;\">\n",
       "      <th></th>\n",
       "      <th>City</th>\n",
       "      <th>ID</th>\n",
       "    </tr>\n",
       "  </thead>\n",
       "  <tbody>\n",
       "    <tr>\n",
       "      <th>0</th>\n",
       "      <td>Metropolitian</td>\n",
       "      <td>34093</td>\n",
       "    </tr>\n",
       "    <tr>\n",
       "      <th>1</th>\n",
       "      <td>NaN</td>\n",
       "      <td>1200</td>\n",
       "    </tr>\n",
       "    <tr>\n",
       "      <th>2</th>\n",
       "      <td>Semi-Urban</td>\n",
       "      <td>164</td>\n",
       "    </tr>\n",
       "    <tr>\n",
       "      <th>3</th>\n",
       "      <td>Urban</td>\n",
       "      <td>10136</td>\n",
       "    </tr>\n",
       "  </tbody>\n",
       "</table>\n",
       "</div>"
      ],
      "text/plain": [
       "             City     ID\n",
       "0  Metropolitian   34093\n",
       "1            NaN    1200\n",
       "2     Semi-Urban     164\n",
       "3          Urban   10136"
      ]
     },
     "execution_count": 66,
     "metadata": {},
     "output_type": "execute_result"
    }
   ],
   "source": [
    "df[['ID','City']].groupby('City').count().reset_index()"
   ]
  },
  {
   "cell_type": "markdown",
   "id": "8ae12a55",
   "metadata": {},
   "source": [
    "## 14. Quantos tipos de veículos únicos existem na base?"
   ]
  },
  {
   "cell_type": "code",
   "execution_count": 77,
   "id": "bf2aba0d",
   "metadata": {},
   "outputs": [
    {
     "name": "stdout",
     "output_type": "stream",
     "text": [
      "Existem 4 tipos de veículos na base.\n"
     ]
    }
   ],
   "source": [
    "ans = df['Type_of_vehicle'].unique().size\n",
    "print('Existem {} tipos de veículos na base.'.format( ans ))"
   ]
  },
  {
   "cell_type": "markdown",
   "id": "57020efb",
   "metadata": {},
   "source": [
    "## 15. Qual o tipo de veículo que mais fez entregas com a condição de trânsito pesado? ( High )"
   ]
  },
  {
   "cell_type": "code",
   "execution_count": 118,
   "id": "bb7a2572",
   "metadata": {},
   "outputs": [
    {
     "name": "stdout",
     "output_type": "stream",
     "text": [
      "Em condição de trânsito pesado, o tipo de veículo que fez mais entregas foi motorcycle  com 2612 entregas.\n"
     ]
    }
   ],
   "source": [
    "# df.dtypes 'Road_traffic_density', 'Type_of_vehicle'\n",
    "dfaux = df[['Road_traffic_density','Type_of_vehicle']].loc[df['Road_traffic_density']=='High '].reset_index()\n",
    "dfaux = dfaux[['Road_traffic_density','Type_of_vehicle']].groupby('Type_of_vehicle').count().reset_index()\n",
    "dfaux\n",
    "print(\"Em condição de trânsito pesado, o tipo de veículo que fez mais entregas foi {} com {} entregas.\".format(\n",
    "dfaux.loc[1,'Type_of_vehicle'], dfaux.loc[1,'Road_traffic_density'] ))"
   ]
  },
  {
   "cell_type": "markdown",
   "id": "a8e960f2",
   "metadata": {},
   "source": [
    "## 16. Qual o tipo de pedido mais feito durante condições climáticas de tempestade de areia?"
   ]
  },
  {
   "cell_type": "markdown",
   "id": "4b2ef58e",
   "metadata": {},
   "source": [
    "## 17. Qual a cidade com o maior número de pedidos de Bebidas (Drinks) feito em Scooter?"
   ]
  },
  {
   "cell_type": "markdown",
   "id": "988c080a",
   "metadata": {},
   "source": [
    "## 18. Qual o nome da cidade com o (os) entregador mais velho? E o nome da cidade com o (os) entregadores mais novos?"
   ]
  },
  {
   "cell_type": "markdown",
   "id": "09ae350f",
   "metadata": {},
   "source": [
    "## 19. Quantas entregas foram feitas durante o Festival?"
   ]
  },
  {
   "cell_type": "markdown",
   "id": "f699876c",
   "metadata": {},
   "source": [
    "## 20. Quantas cidades únicas tiveram entregas feitas durante o Festival?"
   ]
  },
  {
   "cell_type": "markdown",
   "id": "3a3095f8",
   "metadata": {},
   "source": [
    "## 21. Quantas entregas foram feitas durante o Festival na cidade chamada Urban (\"Urban\")"
   ]
  },
  {
   "cell_type": "code",
   "execution_count": null,
   "id": "90ed7915",
   "metadata": {},
   "outputs": [],
   "source": []
  },
  {
   "cell_type": "code",
   "execution_count": null,
   "id": "49304e0b",
   "metadata": {},
   "outputs": [],
   "source": []
  }
 ],
 "metadata": {
  "kernelspec": {
   "display_name": "venv_ftc",
   "language": "python",
   "name": "venv_ftc"
  },
  "language_info": {
   "codemirror_mode": {
    "name": "ipython",
    "version": 3
   },
   "file_extension": ".py",
   "mimetype": "text/x-python",
   "name": "python",
   "nbconvert_exporter": "python",
   "pygments_lexer": "ipython3",
   "version": "3.11.2"
  }
 },
 "nbformat": 4,
 "nbformat_minor": 5
}
