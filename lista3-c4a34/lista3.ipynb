{
 "cells": [
  {
   "cell_type": "markdown",
   "id": "03a02c6e",
   "metadata": {},
   "source": [
    "# Lista 3 - C4A34\n",
    "Fechamento do Ciclo 4: Manipulação de dados. Aula 34"
   ]
  },
  {
   "cell_type": "code",
   "execution_count": 1,
   "id": "b4eda0fa",
   "metadata": {},
   "outputs": [],
   "source": [
    "import pandas as pd"
   ]
  },
  {
   "cell_type": "code",
   "execution_count": 2,
   "id": "b20b9018",
   "metadata": {},
   "outputs": [],
   "source": [
    "df = pd.read_csv('../dataset/train.csv')"
   ]
  },
  {
   "cell_type": "code",
   "execution_count": 3,
   "id": "aaf1ec31",
   "metadata": {},
   "outputs": [
    {
     "data": {
      "text/plain": [
       "ID                              object\n",
       "Delivery_person_ID              object\n",
       "Delivery_person_Age             object\n",
       "Delivery_person_Ratings         object\n",
       "Restaurant_latitude            float64\n",
       "Restaurant_longitude           float64\n",
       "Delivery_location_latitude     float64\n",
       "Delivery_location_longitude    float64\n",
       "Order_Date                      object\n",
       "Time_Orderd                     object\n",
       "Time_Order_picked               object\n",
       "Weatherconditions               object\n",
       "Road_traffic_density            object\n",
       "Vehicle_condition                int64\n",
       "Type_of_order                   object\n",
       "Type_of_vehicle                 object\n",
       "multiple_deliveries             object\n",
       "Festival                        object\n",
       "City                            object\n",
       "Time_taken(min)                 object\n",
       "dtype: object"
      ]
     },
     "execution_count": 3,
     "metadata": {},
     "output_type": "execute_result"
    }
   ],
   "source": [
    "df.dtypes"
   ]
  },
  {
   "cell_type": "markdown",
   "id": "a89f1e0d",
   "metadata": {},
   "source": [
    "1. Qual o número total de entregadores cadastrados na base de dados?"
   ]
  },
  {
   "cell_type": "code",
   "execution_count": 4,
   "id": "b9484031",
   "metadata": {},
   "outputs": [
    {
     "name": "stdout",
     "output_type": "stream",
     "text": [
      "A base de dados possui um total de 45593 entregadores.\n"
     ]
    }
   ],
   "source": [
    "ans = df['Delivery_person_ID'].size\n",
    "print('A base de dados possui um total de {} entregadores.'.format(ans))"
   ]
  },
  {
   "cell_type": "markdown",
   "id": "3794f069",
   "metadata": {},
   "source": [
    "2. Qual o número total de entregadores únicos cadastrados na base de dados?"
   ]
  },
  {
   "cell_type": "code",
   "execution_count": 5,
   "id": "06d47a11",
   "metadata": {},
   "outputs": [
    {
     "name": "stdout",
     "output_type": "stream",
     "text": [
      "A base de dados possui um total de 1320 entregadores únicos.\n"
     ]
    }
   ],
   "source": [
    "ans = df['Delivery_person_ID'].unique().size\n",
    "print('A base de dados possui um total de {} entregadores únicos.'.format(ans))"
   ]
  },
  {
   "cell_type": "markdown",
   "id": "1b2cb7fd",
   "metadata": {},
   "source": [
    "3. Qual a média de idade dos entregadores por cidade?"
   ]
  },
  {
   "cell_type": "code",
   "execution_count": 13,
   "id": "1a18a3c3",
   "metadata": {},
   "outputs": [
    {
     "data": {
      "text/html": [
       "<div>\n",
       "<style scoped>\n",
       "    .dataframe tbody tr th:only-of-type {\n",
       "        vertical-align: middle;\n",
       "    }\n",
       "\n",
       "    .dataframe tbody tr th {\n",
       "        vertical-align: top;\n",
       "    }\n",
       "\n",
       "    .dataframe thead th {\n",
       "        text-align: right;\n",
       "    }\n",
       "</style>\n",
       "<table border=\"1\" class=\"dataframe\">\n",
       "  <thead>\n",
       "    <tr style=\"text-align: right;\">\n",
       "      <th></th>\n",
       "      <th>City</th>\n",
       "      <th>Delivery_person_Age</th>\n",
       "    </tr>\n",
       "  </thead>\n",
       "  <tbody>\n",
       "    <tr>\n",
       "      <th>0</th>\n",
       "      <td>Metropolitian</td>\n",
       "      <td>29.785124</td>\n",
       "    </tr>\n",
       "    <tr>\n",
       "      <th>1</th>\n",
       "      <td>Semi-Urban</td>\n",
       "      <td>32.565789</td>\n",
       "    </tr>\n",
       "    <tr>\n",
       "      <th>2</th>\n",
       "      <td>Urban</td>\n",
       "      <td>28.880115</td>\n",
       "    </tr>\n",
       "  </tbody>\n",
       "</table>\n",
       "</div>"
      ],
      "text/plain": [
       "             City  Delivery_person_Age\n",
       "0  Metropolitian             29.785124\n",
       "1     Semi-Urban             32.565789\n",
       "2          Urban             28.880115"
      ]
     },
     "execution_count": 13,
     "metadata": {},
     "output_type": "execute_result"
    }
   ],
   "source": [
    "dfaux = df[['Delivery_person_Age','City']].loc[df['City']!='NaN ']\n",
    "dfaux = dfaux[['Delivery_person_Age','City']].loc[dfaux['Delivery_person_Age']!='NaN ']\n",
    "dfaux['Delivery_person_Age'] = pd.to_numeric(dfaux['Delivery_person_Age'])\n",
    "dfaux.groupby('City').mean().reset_index()\n"
   ]
  },
  {
   "cell_type": "markdown",
   "id": "9fd6a986",
   "metadata": {},
   "source": [
    "4. Qual a mediana de idade dos entregadores por cidade?"
   ]
  },
  {
   "cell_type": "code",
   "execution_count": 14,
   "id": "d2c791cd",
   "metadata": {},
   "outputs": [
    {
     "data": {
      "text/html": [
       "<div>\n",
       "<style scoped>\n",
       "    .dataframe tbody tr th:only-of-type {\n",
       "        vertical-align: middle;\n",
       "    }\n",
       "\n",
       "    .dataframe tbody tr th {\n",
       "        vertical-align: top;\n",
       "    }\n",
       "\n",
       "    .dataframe thead th {\n",
       "        text-align: right;\n",
       "    }\n",
       "</style>\n",
       "<table border=\"1\" class=\"dataframe\">\n",
       "  <thead>\n",
       "    <tr style=\"text-align: right;\">\n",
       "      <th></th>\n",
       "      <th>City</th>\n",
       "      <th>Delivery_person_Age</th>\n",
       "    </tr>\n",
       "  </thead>\n",
       "  <tbody>\n",
       "    <tr>\n",
       "      <th>0</th>\n",
       "      <td>Metropolitian</td>\n",
       "      <td>30.0</td>\n",
       "    </tr>\n",
       "    <tr>\n",
       "      <th>1</th>\n",
       "      <td>Semi-Urban</td>\n",
       "      <td>32.0</td>\n",
       "    </tr>\n",
       "    <tr>\n",
       "      <th>2</th>\n",
       "      <td>Urban</td>\n",
       "      <td>28.0</td>\n",
       "    </tr>\n",
       "  </tbody>\n",
       "</table>\n",
       "</div>"
      ],
      "text/plain": [
       "             City  Delivery_person_Age\n",
       "0  Metropolitian                  30.0\n",
       "1     Semi-Urban                  32.0\n",
       "2          Urban                  28.0"
      ]
     },
     "execution_count": 14,
     "metadata": {},
     "output_type": "execute_result"
    }
   ],
   "source": [
    "dfaux.groupby('City').median().reset_index()\n"
   ]
  },
  {
   "cell_type": "markdown",
   "id": "a3ea1671",
   "metadata": {},
   "source": [
    "5. Qual o número total de entregas feitas por densidade de tráfego?"
   ]
  },
  {
   "cell_type": "code",
   "execution_count": 20,
   "id": "ca530560",
   "metadata": {},
   "outputs": [
    {
     "data": {
      "text/html": [
       "<div>\n",
       "<style scoped>\n",
       "    .dataframe tbody tr th:only-of-type {\n",
       "        vertical-align: middle;\n",
       "    }\n",
       "\n",
       "    .dataframe tbody tr th {\n",
       "        vertical-align: top;\n",
       "    }\n",
       "\n",
       "    .dataframe thead th {\n",
       "        text-align: right;\n",
       "    }\n",
       "</style>\n",
       "<table border=\"1\" class=\"dataframe\">\n",
       "  <thead>\n",
       "    <tr style=\"text-align: right;\">\n",
       "      <th></th>\n",
       "      <th>Road_traffic_density</th>\n",
       "      <th>ID</th>\n",
       "    </tr>\n",
       "  </thead>\n",
       "  <tbody>\n",
       "    <tr>\n",
       "      <th>0</th>\n",
       "      <td>High</td>\n",
       "      <td>4425</td>\n",
       "    </tr>\n",
       "    <tr>\n",
       "      <th>1</th>\n",
       "      <td>Jam</td>\n",
       "      <td>14143</td>\n",
       "    </tr>\n",
       "    <tr>\n",
       "      <th>2</th>\n",
       "      <td>Low</td>\n",
       "      <td>15477</td>\n",
       "    </tr>\n",
       "    <tr>\n",
       "      <th>3</th>\n",
       "      <td>Medium</td>\n",
       "      <td>10947</td>\n",
       "    </tr>\n",
       "    <tr>\n",
       "      <th>4</th>\n",
       "      <td>NaN</td>\n",
       "      <td>601</td>\n",
       "    </tr>\n",
       "  </tbody>\n",
       "</table>\n",
       "</div>"
      ],
      "text/plain": [
       "  Road_traffic_density     ID\n",
       "0                High    4425\n",
       "1                 Jam   14143\n",
       "2                 Low   15477\n",
       "3              Medium   10947\n",
       "4                 NaN     601"
      ]
     },
     "execution_count": 20,
     "metadata": {},
     "output_type": "execute_result"
    }
   ],
   "source": [
    "df[['ID','Road_traffic_density']].groupby('Road_traffic_density').count().reset_index()"
   ]
  },
  {
   "cell_type": "markdown",
   "id": "1f05d0ff",
   "metadata": {},
   "source": [
    "6. Qual a média das avaliações das entregas feitas por densidade de tráfego?"
   ]
  },
  {
   "cell_type": "code",
   "execution_count": 29,
   "id": "ef294eb6",
   "metadata": {},
   "outputs": [
    {
     "data": {
      "text/html": [
       "<div>\n",
       "<style scoped>\n",
       "    .dataframe tbody tr th:only-of-type {\n",
       "        vertical-align: middle;\n",
       "    }\n",
       "\n",
       "    .dataframe tbody tr th {\n",
       "        vertical-align: top;\n",
       "    }\n",
       "\n",
       "    .dataframe thead th {\n",
       "        text-align: right;\n",
       "    }\n",
       "</style>\n",
       "<table border=\"1\" class=\"dataframe\">\n",
       "  <thead>\n",
       "    <tr style=\"text-align: right;\">\n",
       "      <th></th>\n",
       "      <th>Road_traffic_density</th>\n",
       "      <th>Delivery_person_Ratings</th>\n",
       "    </tr>\n",
       "  </thead>\n",
       "  <tbody>\n",
       "    <tr>\n",
       "      <th>0</th>\n",
       "      <td>High</td>\n",
       "      <td>4.654634</td>\n",
       "    </tr>\n",
       "    <tr>\n",
       "      <th>1</th>\n",
       "      <td>Jam</td>\n",
       "      <td>4.595981</td>\n",
       "    </tr>\n",
       "    <tr>\n",
       "      <th>2</th>\n",
       "      <td>Low</td>\n",
       "      <td>4.647556</td>\n",
       "    </tr>\n",
       "    <tr>\n",
       "      <th>3</th>\n",
       "      <td>Medium</td>\n",
       "      <td>4.660920</td>\n",
       "    </tr>\n",
       "    <tr>\n",
       "      <th>4</th>\n",
       "      <td>NaN</td>\n",
       "      <td>3.912088</td>\n",
       "    </tr>\n",
       "  </tbody>\n",
       "</table>\n",
       "</div>"
      ],
      "text/plain": [
       "  Road_traffic_density  Delivery_person_Ratings\n",
       "0                High                  4.654634\n",
       "1                 Jam                  4.595981\n",
       "2                 Low                  4.647556\n",
       "3              Medium                  4.660920\n",
       "4                 NaN                  3.912088"
      ]
     },
     "execution_count": 29,
     "metadata": {},
     "output_type": "execute_result"
    }
   ],
   "source": [
    "dfaux = df[['Delivery_person_Ratings','Road_traffic_density']].loc[df['Delivery_person_Ratings'] != 'NaN ']\n",
    "dfaux['Delivery_person_Ratings'] = pd.to_numeric(dfaux['Delivery_person_Ratings'])\n",
    "dfaux[['Delivery_person_Ratings','Road_traffic_density']].groupby('Road_traffic_density').mean().reset_index()"
   ]
  },
  {
   "cell_type": "markdown",
   "id": "f2bc53d8",
   "metadata": {},
   "source": [
    "7. Qual a quantidade de entregas feitas por cidade?"
   ]
  },
  {
   "cell_type": "code",
   "execution_count": 33,
   "id": "c01016c2",
   "metadata": {},
   "outputs": [
    {
     "data": {
      "text/html": [
       "<div>\n",
       "<style scoped>\n",
       "    .dataframe tbody tr th:only-of-type {\n",
       "        vertical-align: middle;\n",
       "    }\n",
       "\n",
       "    .dataframe tbody tr th {\n",
       "        vertical-align: top;\n",
       "    }\n",
       "\n",
       "    .dataframe thead th {\n",
       "        text-align: right;\n",
       "    }\n",
       "</style>\n",
       "<table border=\"1\" class=\"dataframe\">\n",
       "  <thead>\n",
       "    <tr style=\"text-align: right;\">\n",
       "      <th></th>\n",
       "      <th>City</th>\n",
       "      <th>ID</th>\n",
       "    </tr>\n",
       "  </thead>\n",
       "  <tbody>\n",
       "    <tr>\n",
       "      <th>0</th>\n",
       "      <td>Metropolitian</td>\n",
       "      <td>34093</td>\n",
       "    </tr>\n",
       "    <tr>\n",
       "      <th>1</th>\n",
       "      <td>NaN</td>\n",
       "      <td>1200</td>\n",
       "    </tr>\n",
       "    <tr>\n",
       "      <th>2</th>\n",
       "      <td>Semi-Urban</td>\n",
       "      <td>164</td>\n",
       "    </tr>\n",
       "    <tr>\n",
       "      <th>3</th>\n",
       "      <td>Urban</td>\n",
       "      <td>10136</td>\n",
       "    </tr>\n",
       "  </tbody>\n",
       "</table>\n",
       "</div>"
      ],
      "text/plain": [
       "             City     ID\n",
       "0  Metropolitian   34093\n",
       "1            NaN    1200\n",
       "2     Semi-Urban     164\n",
       "3          Urban   10136"
      ]
     },
     "execution_count": 33,
     "metadata": {},
     "output_type": "execute_result"
    }
   ],
   "source": [
    "df[['ID','City']].groupby('City').count().reset_index()\n",
    "\n"
   ]
  },
  {
   "cell_type": "markdown",
   "id": "091a09f2",
   "metadata": {},
   "source": [
    "8. Qual a média, mediana e desvio padrão das entregas feitas por cidade e por tipo de veículo?"
   ]
  },
  {
   "cell_type": "code",
   "execution_count": 35,
   "id": "d265dcae",
   "metadata": {},
   "outputs": [],
   "source": [
    "# df.dtypes\n",
    "# 'City','Type_of_vehicle'\n"
   ]
  },
  {
   "cell_type": "markdown",
   "id": "d3774724",
   "metadata": {},
   "source": [
    "9. Qual a primeira data de entrega por cada cidade?"
   ]
  },
  {
   "cell_type": "markdown",
   "id": "4f29c7d0",
   "metadata": {},
   "source": [
    "10. Qual a última data de entrega por cada cidade?"
   ]
  },
  {
   "cell_type": "markdown",
   "id": "4d080e5b",
   "metadata": {},
   "source": [
    "11. Qual a média de avaliações das entregas feitas por condições climáticas?"
   ]
  },
  {
   "cell_type": "markdown",
   "id": "9d616d3b",
   "metadata": {},
   "source": [
    "12. Qual o valor da avaliação mais baixa feita por tipo de condição climática e por densidade de tráfego?"
   ]
  },
  {
   "cell_type": "markdown",
   "id": "729a48a1",
   "metadata": {},
   "source": [
    "13. Qual a média, mediana e desvio padrão das avaliações por cada tipo de condições de veículos?"
   ]
  },
  {
   "cell_type": "markdown",
   "id": "7a54b346",
   "metadata": {},
   "source": [
    "14. Quantas entreagas foram feitas no Festival?"
   ]
  },
  {
   "cell_type": "markdown",
   "id": "8c2131df",
   "metadata": {},
   "source": [
    "15. Qual a avaliação média das entregas feitas no Festival?"
   ]
  },
  {
   "cell_type": "markdown",
   "id": "65bf6554",
   "metadata": {},
   "source": [
    "16. Qual a menor avaliação feita em uma entrega no Festival e por cidade?"
   ]
  },
  {
   "cell_type": "markdown",
   "id": "449382b4",
   "metadata": {},
   "source": [
    "17. Qual a maior avaliação feita por tipo de pedido?"
   ]
  },
  {
   "cell_type": "markdown",
   "id": "2fc46a91",
   "metadata": {},
   "source": [
    "18. Qual a idade do entregador mais velho da planilha de dados?"
   ]
  },
  {
   "cell_type": "markdown",
   "id": "5763f01d",
   "metadata": {},
   "source": [
    "19. Qual a idade do entregador mais novo da planilha de dados?"
   ]
  },
  {
   "cell_type": "markdown",
   "id": "96adcd9d",
   "metadata": {},
   "source": [
    "20. Quantas entregas foram feitas em cada condição climática?"
   ]
  },
  {
   "cell_type": "markdown",
   "id": "73d1cd11",
   "metadata": {},
   "source": [
    "21. Quantas entregas foram feitas em cada tipo de densidade de trânsito?"
   ]
  }
 ],
 "metadata": {
  "kernelspec": {
   "display_name": "venv_ftc",
   "language": "python",
   "name": "venv_ftc"
  },
  "language_info": {
   "codemirror_mode": {
    "name": "ipython",
    "version": 3
   },
   "file_extension": ".py",
   "mimetype": "text/x-python",
   "name": "python",
   "nbconvert_exporter": "python",
   "pygments_lexer": "ipython3",
   "version": "3.11.2"
  }
 },
 "nbformat": 4,
 "nbformat_minor": 5
}
