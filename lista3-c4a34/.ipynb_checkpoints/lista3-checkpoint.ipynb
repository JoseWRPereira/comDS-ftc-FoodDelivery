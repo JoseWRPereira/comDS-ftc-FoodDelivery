{
 "cells": [
  {
   "cell_type": "markdown",
   "id": "03a02c6e",
   "metadata": {},
   "source": [
    "# Lista 3 - C4A34\n",
    "Fechamento do Ciclo 4: Manipulação de dados. Aula 34"
   ]
  },
  {
   "cell_type": "markdown",
   "id": "a89f1e0d",
   "metadata": {},
   "source": [
    "1. Qual o número total de entregadores cadastrados na base de dados?"
   ]
  },
  {
   "cell_type": "markdown",
   "id": "3794f069",
   "metadata": {},
   "source": [
    "2. Qual o número total de entregadores únicos cadastrados na base de dados?"
   ]
  },
  {
   "cell_type": "markdown",
   "id": "1b2cb7fd",
   "metadata": {},
   "source": [
    "3. Qual a média de idade dos entregadores por cidade?"
   ]
  },
  {
   "cell_type": "markdown",
   "id": "9fd6a986",
   "metadata": {},
   "source": [
    "4. Qual a mediana de idade dos entregadores por cidade?"
   ]
  },
  {
   "cell_type": "markdown",
   "id": "a3ea1671",
   "metadata": {},
   "source": [
    "5. Qual o número total de entregas feitas por densidade de tráfego?"
   ]
  },
  {
   "cell_type": "markdown",
   "id": "1f05d0ff",
   "metadata": {},
   "source": [
    "6. Qual a média das avaliações das entregas feitas por densidade de tráfego?"
   ]
  },
  {
   "cell_type": "markdown",
   "id": "f2bc53d8",
   "metadata": {},
   "source": [
    "7. Qual a quantidade de entregas feitas por cidade?"
   ]
  },
  {
   "cell_type": "markdown",
   "id": "091a09f2",
   "metadata": {},
   "source": [
    "8. Qual a média, mediana e desvio padrão das entregas feitas por cidade e por tipo de veículo?"
   ]
  },
  {
   "cell_type": "markdown",
   "id": "d3774724",
   "metadata": {},
   "source": [
    "9. Qual a primeira data de entrega por cada cidade?"
   ]
  },
  {
   "cell_type": "markdown",
   "id": "4f29c7d0",
   "metadata": {},
   "source": [
    "10. Qual a última data de entrega por cada cidade?"
   ]
  },
  {
   "cell_type": "markdown",
   "id": "4d080e5b",
   "metadata": {},
   "source": [
    "11. Qual a média de avaliações das entregas feitas por condições climáticas?"
   ]
  },
  {
   "cell_type": "markdown",
   "id": "9d616d3b",
   "metadata": {},
   "source": [
    "12. Qual o valor da avaliação mais baixa feita por tipo de condição climática e por densidade de tráfego?"
   ]
  },
  {
   "cell_type": "markdown",
   "id": "729a48a1",
   "metadata": {},
   "source": [
    "13. Qual a média, mediana e desvio padrão das avaliações por cada tipo de condições de veículos?"
   ]
  },
  {
   "cell_type": "markdown",
   "id": "7a54b346",
   "metadata": {},
   "source": [
    "14. Quantas entreagas foram feitas no Festival?"
   ]
  },
  {
   "cell_type": "markdown",
   "id": "8c2131df",
   "metadata": {},
   "source": [
    "15. Qual a avaliação média das entregas feitas no Festival?"
   ]
  },
  {
   "cell_type": "markdown",
   "id": "65bf6554",
   "metadata": {},
   "source": [
    "16. Qual a menor avaliação feita em uma entrega no Festival e por cidade?"
   ]
  },
  {
   "cell_type": "markdown",
   "id": "449382b4",
   "metadata": {},
   "source": [
    "17. Qual a maior avaliação feita por tipo de pedido?"
   ]
  },
  {
   "cell_type": "markdown",
   "id": "2fc46a91",
   "metadata": {},
   "source": [
    "18. Qual a idade do entregador mais velho da planilha de dados?"
   ]
  },
  {
   "cell_type": "markdown",
   "id": "5763f01d",
   "metadata": {},
   "source": [
    "19. Qual a idade do entregador mais novo da planilha de dados?"
   ]
  },
  {
   "cell_type": "markdown",
   "id": "96adcd9d",
   "metadata": {},
   "source": [
    "20. Quantas entregas foram feitas em cada condição climática?"
   ]
  },
  {
   "cell_type": "markdown",
   "id": "73d1cd11",
   "metadata": {},
   "source": [
    "21. Quantas entregas foram feitas em cada tipo de densidade de trânsito?"
   ]
  }
 ],
 "metadata": {
  "kernelspec": {
   "display_name": "Python 3 (ipykernel)",
   "language": "python",
   "name": "python3"
  },
  "language_info": {
   "codemirror_mode": {
    "name": "ipython",
    "version": 3
   },
   "file_extension": ".py",
   "mimetype": "text/x-python",
   "name": "python",
   "nbconvert_exporter": "python",
   "pygments_lexer": "ipython3",
   "version": "3.11.2"
  }
 },
 "nbformat": 4,
 "nbformat_minor": 5
}
